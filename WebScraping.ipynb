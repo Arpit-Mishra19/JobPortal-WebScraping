{
 "cells": [
  {
   "cell_type": "code",
   "execution_count": null,
   "id": "f6f4fe07-1ffb-4a74-a7de-83f87edfa165",
   "metadata": {},
   "outputs": [],
   "source": [
    "from bs4 import BeautifulSoup\n",
    "import requests\n",
    "import pandas as pd\n",
    "import numpy as np\n",
    "import warnings\n",
    "warnings.filterwarnings(\"ignore\")"
   ]
  },
  {
   "cell_type": "code",
   "execution_count": null,
   "id": "ad86c5f4-1f88-4ba1-93b6-1dd62a7af83d",
   "metadata": {},
   "outputs": [],
   "source": [
    "headers={'User-Agent':'Mozilla/5.0 (Windows NT 6.3; Win 64 ; x64) Apple WeKit /537.36(KHTML , like Gecko) Chrome/80.0.3987.162 Safari/537.36'}"
   ]
  },
  {
   "cell_type": "code",
   "execution_count": null,
   "id": "1940c648-0a90-4858-9189-6e4b347bb2ed",
   "metadata": {},
   "outputs": [],
   "source": [
    "webpage=requests.get('https://www.ambitionbox.com/list-of-companies?page=1',headers = headers).text"
   ]
  },
  {
   "cell_type": "code",
   "execution_count": null,
   "id": "495cc315-29e3-4e02-a107-23ebc2b39f9f",
   "metadata": {},
   "outputs": [],
   "source": [
    "soup=BeautifulSoup(webpage,'lxml')"
   ]
  },
  {
   "cell_type": "code",
   "execution_count": null,
   "id": "cb409939-7c8f-49fe-af49-c401c543a853",
   "metadata": {},
   "outputs": [],
   "source": [
    "print(soup.prettify())"
   ]
  },
  {
   "cell_type": "code",
   "execution_count": null,
   "id": "779f7aaa-cbe9-4b47-8964-b85ad047590a",
   "metadata": {},
   "outputs": [],
   "source": [
    "soup.find_all('h1')[0].text"
   ]
  },
  {
   "cell_type": "markdown",
   "id": "7f4c13a0-2fb1-4f9f-aeba-d862c658e4b2",
   "metadata": {},
   "source": [
    "# TO FIND OUT NAMES OF THE COMPANIES"
   ]
  },
  {
   "cell_type": "code",
   "execution_count": null,
   "id": "536c356e-2061-4c18-8e1a-7b6a04468a84",
   "metadata": {},
   "outputs": [],
   "source": [
    "for i in soup.find_all('h2'):\n",
    "  print(i.text.strip())"
   ]
  },
  {
   "cell_type": "code",
   "execution_count": null,
   "id": "a7d1100e-5c62-4d6c-b5ed-87660afecd5e",
   "metadata": {},
   "outputs": [],
   "source": [
    "for i in soup.find_all('p'):\n",
    "  print(i.text.strip())"
   ]
  },
  {
   "cell_type": "code",
   "execution_count": null,
   "id": "6fe4c110-211d-4963-87c8-d14538dc39f6",
   "metadata": {},
   "outputs": [],
   "source": [
    "#for in soup.find_all('p'):\n",
    "#  print(i.text.strip())"
   ]
  },
  {
   "cell_type": "markdown",
   "id": "025e76d3-3ce8-4c62-859c-ac784aaf32e3",
   "metadata": {},
   "source": [
    "# TO FIND OUT THE RATINGS"
   ]
  },
  {
   "cell_type": "code",
   "execution_count": null,
   "id": "feedcaf0-e991-487b-94c8-6cf6183872cb",
   "metadata": {},
   "outputs": [],
   "source": [
    "len(soup.find_all('p',class_='rating'))"
   ]
  },
  {
   "cell_type": "markdown",
   "id": "a8b2acc6-c9ec-41fe-88c2-62fb08fb3553",
   "metadata": {},
   "source": [
    "# TO FIND OUT THE NUMBER OF REVIEWS"
   ]
  },
  {
   "cell_type": "code",
   "execution_count": null,
   "id": "db645f83-4d86-46aa-8197-9f9d1a48f109",
   "metadata": {},
   "outputs": [],
   "source": [
    "len(soup.find_all('a' , class_='review-count'))"
   ]
  },
  {
   "cell_type": "markdown",
   "id": "01c6dfdf-c5c3-4fb2-a1de-49c5e28a901a",
   "metadata": {},
   "source": [
    "# CONSIDERING THE WHOLE CONTAINER"
   ]
  },
  {
   "cell_type": "code",
   "execution_count": null,
   "id": "c05c1b77-1d2d-4c09-817c-9a4fd61688fd",
   "metadata": {},
   "outputs": [],
   "source": [
    "company=soup.find_all('div',class_='company-content-wrapper')"
   ]
  },
  {
   "cell_type": "code",
   "execution_count": null,
   "id": "98326dd3-fe9f-414c-bb3b-1acc62335c54",
   "metadata": {},
   "outputs": [],
   "source": [
    "len(company) "
   ]
  },
  {
   "cell_type": "code",
   "execution_count": null,
   "id": "d4046931-7069-4707-9631-fd2bc24f95d0",
   "metadata": {},
   "outputs": [],
   "source": [
    "name=[]\n",
    "rating=[]\n",
    "reviews=[]\n",
    "ctype=[]\n",
    "hq=[]\n",
    "how_old=[]\n",
    "no_of_employee=[]\n",
    "\n",
    "for i in company:\n",
    "\n",
    "  name.append(i.find('h2').text.strip())\n",
    "  rating.append(i.find('p',class_='rating').text.strip())\n",
    "  reviews.append(i.find('a' , class_='review-count').text.strip())\n",
    "  ctype.append(i.find_all('p',class_='infoEntity')[0].text.strip())\n",
    "  hq.append(i.find_all('p',class_='infoEntity')[1].text.strip())\n",
    "  how_old.append(i.find_all('p',class_='infoEntity')[2].text.strip())\n",
    "  no_of_employee.append(i.find_all('p',class_='infoEntity')[3].text.strip())\n",
    "\n",
    "df=pd.DataFrame({'name':name,\n",
    "   'rating':rating,\n",
    "   'reviews':reviews,\n",
    "   'company_type':ctype,\n",
    "   'Head_Quarters':hq,\n",
    "   'Company_Age':how_old,\n",
    "   'No_of_Employee':no_of_employee,\n",
    "   })"
   ]
  },
  {
   "cell_type": "code",
   "execution_count": null,
   "id": "08a04acb-7481-48c8-8423-8dbf8e482141",
   "metadata": {},
   "outputs": [],
   "source": [
    "name"
   ]
  },
  {
   "cell_type": "code",
   "execution_count": null,
   "id": "c7897ce8-6bd4-4296-b0e0-80d3b5d3050a",
   "metadata": {},
   "outputs": [],
   "source": [
    "rating"
   ]
  },
  {
   "cell_type": "code",
   "execution_count": null,
   "id": "ee42d8dc-4762-4d55-a4a5-d0efedbeac12",
   "metadata": {},
   "outputs": [],
   "source": [
    "reviews"
   ]
  },
  {
   "cell_type": "code",
   "execution_count": null,
   "id": "f1d7ac8b-54b1-4973-bd08-8b89a66fc4bf",
   "metadata": {},
   "outputs": [],
   "source": [
    "ctype"
   ]
  },
  {
   "cell_type": "code",
   "execution_count": null,
   "id": "e0833144-37c8-4b65-939e-d05e7f1e9707",
   "metadata": {},
   "outputs": [],
   "source": [
    "hq"
   ]
  },
  {
   "cell_type": "code",
   "execution_count": null,
   "id": "a5a3b988-79d4-47f3-b846-7155ac54f5a2",
   "metadata": {},
   "outputs": [],
   "source": [
    "how_old"
   ]
  },
  {
   "cell_type": "code",
   "execution_count": null,
   "id": "e839c4e2-ead5-40d6-9ea7-07f32c78ca70",
   "metadata": {},
   "outputs": [],
   "source": [
    "no_of_employee"
   ]
  },
  {
   "cell_type": "code",
   "execution_count": null,
   "id": "b2544040-1ab6-412d-99e0-434d130d3ff4",
   "metadata": {},
   "outputs": [],
   "source": [
    "df.shape"
   ]
  },
  {
   "cell_type": "markdown",
   "id": "f64dfe33-d048-454e-808c-3a1b9eb1a1e8",
   "metadata": {},
   "source": [
    "# creating dataframe for all the pages"
   ]
  },
  {
   "cell_type": "code",
   "execution_count": null,
   "id": "b3ff25a3-0684-4012-ab58-eb5d129218d0",
   "metadata": {},
   "outputs": [],
   "source": [
    "final=pd.DataFrame()\n",
    "for j in range(1,1001):\n",
    "  webpage=requests.get('https://www.ambitionbox.com/list-of-companies?page={}'.format(j)).text\n",
    "  soup=BeautifulSoup(webpage,'lxml')\n",
    "  company=soup.find_all('div',class_='company-content-wrapper')\n",
    "  name=[]\n",
    "  rating=[]\n",
    "  reviews=[]\n",
    "  ctype=[]\n",
    "  hq=[]\n",
    "  how_old=[]\n",
    "  no_of_employee=[]\n",
    "\n",
    "  for i in company:\n",
    "\n",
    "    try:\n",
    "       name.append(i.find('h2').text.strip())\n",
    "    except:\n",
    "       name.append(np.nan)\n",
    "\n",
    "    try:\n",
    "       rating.append(i.find('p',class_='rating').text.strip())\n",
    "    except:\n",
    "       rating.append(np.nan)\n",
    "   \n",
    "    try:\n",
    "\n",
    "      reviews.append(i.find('a' , class_='review-count').text.strip())\n",
    "    except:\n",
    "      reviews.append(np.nan)\n",
    "\n",
    "    try:\n",
    "\n",
    "      ctype.append(i.find_all('p',class_='infoEntity')[0].text.strip())\n",
    "    except:\n",
    "      ctype.append(np.nan)\n",
    "    try:\n",
    "\n",
    "      hq.append(i.find_all('p',class_='infoEntity')[1].text.strip())\n",
    "    except:\n",
    "      hq.append(np.nan)\n",
    "    \n",
    "    try:\n",
    "\n",
    "      how_old.append(i.find_all('p',class_='infoEntity')[2].text.strip())\n",
    "    except:\n",
    "      how_old.append(np.nan)\n",
    "    try:\n",
    "      no_of_employee.append(i.find_all('p',class_='infoEntity')[3].text.strip())\n",
    "    except:\n",
    "      no_of_employee.append(np.nan)\n",
    "    \n",
    "\n",
    "  df=pd.DataFrame({'name':name,\n",
    "    'rating':rating,\n",
    "    'reviews':reviews,\n",
    "    'company_type':ctype,\n",
    "    'Head_Quarters':hq,\n",
    "    'Company_Age':how_old,\n",
    "    'No_of_Employee':no_of_employee,\n",
    "    })\n",
    "  \n",
    "  final=final.append(df,ignore_index=True)\n",
    "    "
   ]
  },
  {
   "cell_type": "code",
   "execution_count": null,
   "id": "3d094cda-34a7-43c7-8a2c-5638fc008665",
   "metadata": {},
   "outputs": [],
   "source": [
    "df.sample(5)"
   ]
  },
  {
   "cell_type": "code",
   "execution_count": null,
   "id": "1a059137-b9fc-48cb-a3cc-2a82f94a33a0",
   "metadata": {},
   "outputs": [],
   "source": [
    "df.shape"
   ]
  },
  {
   "cell_type": "code",
   "execution_count": null,
   "id": "983bcb8f-4a3d-4288-b561-1cbd313ec4db",
   "metadata": {},
   "outputs": [],
   "source": [
    "final.shape"
   ]
  },
  {
   "cell_type": "code",
   "execution_count": null,
   "id": "c6461866-f758-4c0a-bdf1-702d4496df82",
   "metadata": {},
   "outputs": [],
   "source": []
  },
  {
   "cell_type": "code",
   "execution_count": null,
   "id": "051dc757-80ae-4eef-af6d-70110edf7ec1",
   "metadata": {},
   "outputs": [],
   "source": []
  },
  {
   "cell_type": "code",
   "execution_count": null,
   "id": "44e374ac-55fe-470f-bdcd-3ee7b45e765f",
   "metadata": {},
   "outputs": [],
   "source": []
  },
  {
   "cell_type": "code",
   "execution_count": null,
   "id": "bca6b8ab-77e5-42e3-a56f-4ce8184ecd0d",
   "metadata": {},
   "outputs": [],
   "source": []
  },
  {
   "cell_type": "code",
   "execution_count": null,
   "id": "c40b3e9e-2056-48f4-9d08-20f71effe2d7",
   "metadata": {},
   "outputs": [],
   "source": []
  }
 ],
 "metadata": {
  "kernelspec": {
   "display_name": "Python 3 (ipykernel)",
   "language": "python",
   "name": "python3"
  },
  "language_info": {
   "codemirror_mode": {
    "name": "ipython",
    "version": 3
   },
   "file_extension": ".py",
   "mimetype": "text/x-python",
   "name": "python",
   "nbconvert_exporter": "python",
   "pygments_lexer": "ipython3",
   "version": "3.12.4"
  }
 },
 "nbformat": 4,
 "nbformat_minor": 5
}
